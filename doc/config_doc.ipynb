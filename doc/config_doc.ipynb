{
 "cells": [
  {
   "cell_type": "code",
   "execution_count": 2,
   "metadata": {},
   "outputs": [],
   "source": [
    "import sys\n",
    "from pathlib import Path\n",
    "\n",
    "sys.path.append(str(Path(\"..\").resolve()))"
   ]
  },
  {
   "cell_type": "markdown",
   "metadata": {},
   "source": [
    "# Explanation of config"
   ]
  },
  {
   "cell_type": "markdown",
   "metadata": {},
   "source": [
    "## Section"
   ]
  },
  {
   "cell_type": "markdown",
   "metadata": {},
   "source": [
    "Each section defines how we construct each component in the training. Most corresponds to a PyTorch component (e.g. *model* for `torch.nn.Module`, *data.dataset* for `torch.utils.data.Dataset`). Here are the custom components in this project:"
   ]
  },
  {
   "cell_type": "code",
   "execution_count": 3,
   "metadata": {},
   "outputs": [
    {
     "name": "stdout",
     "output_type": "stream",
     "text": [
      "You may check their __init__ method to see how they are constructed\n",
      "[data.augment] SegmentationAugment : Default data augmentations for semantic segmentation\n",
      "[trainer] Trainer : Repeatedly run training and validation loop, provide detailed logs\n",
      "[paths] don't have associated class\n",
      "[log.wandb] WandbLogger : Save log results and optionally snapshots to wandb\n",
      "[log.tensorboard] TensorboardLogger : Save log results and snapshots to Tensorboard\n"
     ]
    }
   ],
   "source": [
    "from src.semantic_segmentation_toolkit.pipeline import (\n",
    "    TensorboardLogger,\n",
    "    Trainer,\n",
    "    WandbLogger,\n",
    ")\n",
    "from src.semantic_segmentation_toolkit.utils.transform import SegmentationAugment\n",
    "\n",
    "print(\"You may check their __init__ method to see how they are constructed\")\n",
    "print(\"[data.augment]\", SegmentationAugment.__name__, \":\", SegmentationAugment.__doc__)\n",
    "print(\"[trainer]\", Trainer.__name__, \":\", Trainer.__doc__.splitlines()[0])  # type: ignore\n",
    "print(\"[paths] don't have associated class\")\n",
    "print(\"[log.wandb]\", WandbLogger.__name__, \":\", WandbLogger.__doc__)\n",
    "print(\"[log.tensorboard]\", TensorboardLogger.__name__, \":\", TensorboardLogger.__doc__)"
   ]
  },
  {
   "cell_type": "markdown",
   "metadata": {},
   "source": [
    "## Fields\n",
    "Most section have the field *\"params\"*. This will be sent as kwargs to the component."
   ]
  },
  {
   "cell_type": "markdown",
   "metadata": {},
   "source": [
    "### Constructor field\n",
    "Some sections allow user to choose the constructor. Here is the list of such sections and the builtin options (you may register more)"
   ]
  },
  {
   "cell_type": "code",
   "execution_count": 4,
   "metadata": {},
   "outputs": [
    {
     "name": "stdout",
     "output_type": "stream",
     "text": [
      "\n",
      "[model.model]\n",
      "['deeplabv3_mobilenet_v3_large', 'deeplabv3_resnet101', 'deeplabv3_resnet50',\n",
      " 'fcn_mobilenet_v3_large', 'fcn_resnet101', 'fcn_resnet34', 'fcn_resnet50', 'fcn_vgg16',\n",
      " 'lraspp_mobilenet_v3_large', 'pspnet_resnet50']\n",
      "\n",
      "[data.dataset.dataset]\n",
      "['BDD100K', 'Cityscapes', 'CityscapesCategory', 'CityscapesFull', 'SBD', 'VOC']\n",
      "\n",
      "[criterion.criterion]\n",
      "['CrossEntropyLoss', 'DiceLoss', 'FocalLoss']\n",
      "\n",
      "[criterion.class_weight]\n",
      "['class_frequency', 'effective_number', 'log_frequency', 'none', 'sqrt_frequency']\n",
      "\n",
      "[optimizer.optimizer]\n",
      "['Adam', 'Padam', 'SGD']\n",
      "\n",
      "[lr_scheduler.lr_scheduler]\n",
      "['CosineAnnealingLR', 'OneCycleLR', 'PolynomialLR', 'StepLR']\n"
     ]
    }
   ],
   "source": [
    "from pprint import pprint\n",
    "\n",
    "from src.semantic_segmentation_toolkit.datasets import DATASET_ZOO\n",
    "from src.semantic_segmentation_toolkit.learn import (\n",
    "    CLASS_WEIGHTINGS,\n",
    "    CRITERION_ZOO,\n",
    "    LR_SCHEDULER_ZOO,\n",
    "    OPTIMIZER_ZOO,\n",
    ")\n",
    "from src.semantic_segmentation_toolkit.models import MODEL_ZOO\n",
    "\n",
    "# fmt: off\n",
    "zoos: dict[str, dict] = {\n",
    "    \"[model.model]\": MODEL_ZOO, \"[data.dataset.dataset]\": DATASET_ZOO, \n",
    "    \"[criterion.criterion]\": CRITERION_ZOO, \"[criterion.class_weight]\": CLASS_WEIGHTINGS, \n",
    "    \"[optimizer.optimizer]\": OPTIMIZER_ZOO, \"[lr_scheduler.lr_scheduler]\": LR_SCHEDULER_ZOO,\n",
    "}\n",
    "# fmt: on\n",
    "\n",
    "for k, v in zoos.items():\n",
    "    print(\"\\n\" + k)\n",
    "    pprint(sorted(v.keys()), width=100, compact=True)"
   ]
  },
  {
   "cell_type": "markdown",
   "metadata": {},
   "source": [
    "### Special fields"
   ]
  },
  {
   "cell_type": "markdown",
   "metadata": {},
   "source": [
    "`[model.state_file]` path to model's state dict  \n",
    "`[data.dataset.pad_crop_size]` The size to pad or crop each image  \n",
    "`[data.loader.num_workers]` applies to both train and eval dataloader  \n",
    "`[criterion.class_weight]` weight given to each class in weighted loss. See above for valid name  \n",
    "`[criterion.aux_weight]` alpha for auxillary weight. You may want to set *aux_loss=True* in *[model.params]* for this to take effect  \n",
    "`[optimizer.effective_batch_size]` the actual optimization batch size. Must be a multiple of *[data.loader.params.batch_size]*  \n",
    "`[trainer.device]` if *\"auto\"*, choose cpu or cuda automatically  \n",
    "`[paths.runs_folder]` folder to store logs, checkpoints and snapshots locally"
   ]
  },
  {
   "cell_type": "markdown",
   "metadata": {},
   "source": [
    "## Note"
   ]
  },
  {
   "cell_type": "markdown",
   "metadata": {},
   "source": [
    "`[data.dataset.pad_crop_size], [data.loader.params], [data.augment.params]` are only applied to the training dataset/loader. Evaluations are always done one by one with default augmentations. To use different testtime strategies, please see `tasks\\evaluation.ipynb` or `tasks\\inference.ipynb`"
   ]
  }
 ],
 "metadata": {
  "kernelspec": {
   "display_name": ".venv",
   "language": "python",
   "name": "python3"
  },
  "language_info": {
   "codemirror_mode": {
    "name": "ipython",
    "version": 3
   },
   "file_extension": ".py",
   "mimetype": "text/x-python",
   "name": "python",
   "nbconvert_exporter": "python",
   "pygments_lexer": "ipython3",
   "version": "3.10.11"
  }
 },
 "nbformat": 4,
 "nbformat_minor": 2
}
