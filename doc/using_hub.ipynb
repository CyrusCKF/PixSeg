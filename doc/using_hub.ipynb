{
 "cells": [
  {
   "cell_type": "code",
   "execution_count": null,
   "metadata": {},
   "outputs": [],
   "source": [
    "import torch\n",
    "\n",
    "repo = \"CyrusCKF/semantic-segmentation-toolkit\""
   ]
  },
  {
   "cell_type": "code",
   "execution_count": null,
   "metadata": {},
   "outputs": [],
   "source": [
    "torch.hub.list(repo, force_reload=True, trust_repo=True)"
   ]
  },
  {
   "cell_type": "code",
   "execution_count": null,
   "metadata": {},
   "outputs": [],
   "source": [
    "doc = torch.hub.help(repo, \"pspnet_resnet50\")\n",
    "print(doc)"
   ]
  },
  {
   "cell_type": "code",
   "execution_count": null,
   "metadata": {},
   "outputs": [],
   "source": [
    "model = torch.hub.load(\n",
    "    \"CyrusCKF/semantic-segmentation-toolkit\",\n",
    "    \"pspnet_resnet50\",\n",
    "    weights=\"DEFAULT\",  # Load pretrained weights\n",
    ")\n",
    "\n",
    "fake_input = torch.rand([4, 3, 512, 512])\n",
    "output: dict[str, torch.Tensor] = model(fake_input)  # type: ignore\n",
    "print(output[\"out\"].shape)"
   ]
  }
 ],
 "metadata": {
  "kernelspec": {
   "display_name": ".venv",
   "language": "python",
   "name": "python3"
  },
  "language_info": {
   "codemirror_mode": {
    "name": "ipython",
    "version": 3
   },
   "file_extension": ".py",
   "mimetype": "text/x-python",
   "name": "python",
   "nbconvert_exporter": "python",
   "pygments_lexer": "ipython3",
   "version": "3.10.11"
  }
 },
 "nbformat": 4,
 "nbformat_minor": 2
}
