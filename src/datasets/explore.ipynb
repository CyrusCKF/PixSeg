{
 "cells": [
  {
   "cell_type": "code",
   "execution_count": 1,
   "metadata": {},
   "outputs": [],
   "source": [
    "import numpy as np\n",
    "import torch\n",
    "import torchvision\n",
    "from torchvision import datasets\n",
    "from torchvision.transforms.v2 import functional as TF"
   ]
  },
  {
   "cell_type": "code",
   "execution_count": 4,
   "metadata": {},
   "outputs": [
    {
     "name": "stdout",
     "output_type": "stream",
     "text": [
      "(<PIL.Image.Image image mode=RGB size=500x375 at 0x1D4896BA0B0>, <PIL.PngImagePlugin.PngImageFile image mode=P size=500x375 at 0x1D4896B9F00>)\n",
      "torch.float32 torch.Size([3, 375, 500]) torch.uint8 torch.Size([375, 500])\n",
      "[  0  20 255]\n"
     ]
    }
   ],
   "source": [
    "dataset = datasets.VOCSegmentation(\n",
    "    r\"..\\..\\dataset\",\n",
    "    year=\"2007\",\n",
    "    image_set=\"val\",\n",
    "    # download=True,\n",
    ")\n",
    "print(dataset[0])\n",
    "image = TF.to_dtype(TF.to_image(dataset[0][0]), scale=True)\n",
    "mask = TF.to_image(dataset[0][1]).squeeze()\n",
    "print(image.dtype, image.shape, mask.dtype, mask.shape)\n",
    "print(np.unique(mask))"
   ]
  }
 ],
 "metadata": {
  "kernelspec": {
   "display_name": ".venv",
   "language": "python",
   "name": "python3"
  },
  "language_info": {
   "codemirror_mode": {
    "name": "ipython",
    "version": 3
   },
   "file_extension": ".py",
   "mimetype": "text/x-python",
   "name": "python",
   "nbconvert_exporter": "python",
   "pygments_lexer": "ipython3",
   "version": "3.10.11"
  }
 },
 "nbformat": 4,
 "nbformat_minor": 2
}
