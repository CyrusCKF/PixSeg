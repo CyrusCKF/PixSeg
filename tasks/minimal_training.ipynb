{
 "cells": [
  {
   "cell_type": "code",
   "execution_count": null,
   "metadata": {},
   "outputs": [],
   "source": [
    "import sys\n",
    "from pathlib import Path\n",
    "\n",
    "import torch\n",
    "from torch import Tensor, nn, optim\n",
    "from torch.nn import functional as F\n",
    "from torch.utils.data import DataLoader\n",
    "from torchvision import datasets\n",
    "from torchvision.models import segmentation\n",
    "from torchvision.transforms import v2\n",
    "from tqdm import tqdm\n",
    "\n",
    "sys.path.append(str(Path(\"..\").resolve()))\n",
    "from src.semantic_segmentation_toolkit.datasets import DATASET_ZOO, resolve_metadata\n",
    "from src.semantic_segmentation_toolkit.models import MODEL_ZOO\n",
    "from src.semantic_segmentation_toolkit.utils.metrics import MetricStore\n",
    "from src.semantic_segmentation_toolkit.utils.rng import seed\n",
    "from src.semantic_segmentation_toolkit.utils.transform import (\n",
    "    SegmentationAugment,\n",
    "    SegmentationTransform,\n",
    ")"
   ]
  },
  {
   "cell_type": "code",
   "execution_count": null,
   "metadata": {},
   "outputs": [],
   "source": [
    "root = Path(r\"..\\Cityscapes\")\n",
    "metadata = resolve_metadata(\"Cityscapes\")\n",
    "data_transform = SegmentationTransform((512, 1024), mask_fill=metadata.ignore_index)\n",
    "train_augment = SegmentationAugment(0.5)\n",
    "val_augment = SegmentationAugment()\n",
    "train_dataset = DATASET_ZOO[\"Cityscapes\"].construct_train(data_transform, root=root)\n",
    "val_dataset = DATASET_ZOO[\"Cityscapes\"].construct_val(data_transform, root=root)\n",
    "train_loader = DataLoader(train_dataset, 4, drop_last=True, shuffle=True)\n",
    "val_loader = DataLoader(val_dataset)\n",
    "\n",
    "num_epochs = 30\n",
    "device = \"cuda\" if torch.cuda.is_available() else \"cpu\"\n",
    "model = segmentation.fcn_resnet50(num_classes=metadata.num_classes)\n",
    "criterion = nn.CrossEntropyLoss(ignore_index=metadata.ignore_index)\n",
    "optimizer = optim.SGD(model.parameters(), 3e-4, 0.9)"
   ]
  },
  {
   "cell_type": "code",
   "execution_count": null,
   "metadata": {},
   "outputs": [],
   "source": [
    "seed(42)\n",
    "\n",
    "model.to(device)\n",
    "for i in range(num_epochs):\n",
    "    print(f\"Epoch {i:>4}/{num_epochs}\")\n",
    "\n",
    "    model.train()\n",
    "    train_ms = MetricStore(metadata.num_classes)\n",
    "    train_tqdm = tqdm(enumerate(train_loader), total=len(train_loader), desc=\"Train\")\n",
    "    for j, (images, masks) in train_tqdm:\n",
    "        images: Tensor = images.to(device)\n",
    "        masks: Tensor = masks.to(device)\n",
    "        images, masks = train_augment(images, masks)\n",
    "\n",
    "        logits: dict[str, Tensor] = model(images)\n",
    "        for k, v in logits.items():\n",
    "            logits[k] = F.interpolate(v, masks.shape[-2:], mode=\"bilinear\")\n",
    "        losses = {k: criterion(v, masks) for k, v in logits.items()}\n",
    "        loss_sum = sum(losses.values())\n",
    "\n",
    "        assert isinstance(loss_sum, Tensor)\n",
    "        optimizer.zero_grad()\n",
    "        loss_sum.backward()\n",
    "        optimizer.step()\n",
    "\n",
    "        train_ms.store_results(masks, logits[\"out\"].argmax(1))\n",
    "        train_tqdm.set_postfix(train_ms.summarize())\n",
    "\n",
    "    model.eval()\n",
    "    val_ms = MetricStore(metadata.num_classes)\n",
    "    val_tqdm = tqdm(enumerate(val_loader), total=len(val_loader), desc=\"Val\")\n",
    "    with torch.no_grad():\n",
    "        for j, (images, masks) in val_tqdm:\n",
    "            images: Tensor = images.to(device)\n",
    "            masks: Tensor = masks.to(device)\n",
    "            images, masks = train_augment(images, masks)\n",
    "            logits: dict[str, Tensor] = model(images)\n",
    "\n",
    "            out_logits = F.interpolate(logits[\"out\"], masks.shape[-2:], mode=\"bilinear\")\n",
    "            val_ms.store_results(masks, logits[\"out\"].argmax(1))\n",
    "            val_tqdm.set_postfix(val_ms.summarize())"
   ]
  }
 ],
 "metadata": {
  "kernelspec": {
   "display_name": ".venv",
   "language": "python",
   "name": "python3"
  },
  "language_info": {
   "codemirror_mode": {
    "name": "ipython",
    "version": 3
   },
   "file_extension": ".py",
   "mimetype": "text/x-python",
   "name": "python",
   "nbconvert_exporter": "python",
   "pygments_lexer": "ipython3",
   "version": "3.10.11"
  }
 },
 "nbformat": 4,
 "nbformat_minor": 2
}
