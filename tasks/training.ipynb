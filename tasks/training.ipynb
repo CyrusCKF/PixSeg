{
 "cells": [
  {
   "cell_type": "code",
   "execution_count": null,
   "metadata": {},
   "outputs": [],
   "source": [
    "import sys\n",
    "from pathlib import Path\n",
    "\n",
    "import torch\n",
    "from torch import GradScaler, nn, optim\n",
    "from torch.utils import data\n",
    "from torch.utils.data import DataLoader\n",
    "from torchvision import datasets\n",
    "from torchvision.models import segmentation\n",
    "\n",
    "sys.path.append(str(Path(\"..\").resolve()))\n",
    "from src.datasets import DATASET_ZOO\n",
    "from src.models import MODEL_ZOO\n",
    "from src.pipeline import LocalLogger, Trainer, init_logging\n",
    "from src.utils.rng import seed\n",
    "from src.utils.transform import DataAugment, DataTransform"
   ]
  },
  {
   "cell_type": "code",
   "execution_count": null,
   "metadata": {},
   "outputs": [],
   "source": [
    "root = Path(r\"D:\\_Dataset\")\n",
    "entry = DATASET_ZOO[\"VOC\"]\n",
    "train_dataset = entry.train_constructor(\n",
    "    root=root, transforms=DataTransform((500, 500)), year=\"2012\"\n",
    ")\n",
    "# train_dataset = data.Subset(train_dataset, range(50))\n",
    "val_dataset = entry.val_constructor(root=root, transforms=DataTransform(), year=\"2012\")\n",
    "# val_dataset = data.Subset(val_dataset, range(50))\n",
    "train_loader = DataLoader(train_dataset, batch_size=2, drop_last=True)\n",
    "val_loader = DataLoader(val_dataset)\n",
    "\n",
    "device = \"cuda\" if torch.cuda.is_available() else \"cpu\"\n",
    "model = MODEL_ZOO[\"deeplabv3_resnet50\"](num_classes=entry.num_classes, aux_loss=True)\n",
    "criterion = nn.CrossEntropyLoss(ignore_index=entry.ignore_index)\n",
    "optimizer = optim.SGD(model.parameters(), lr=3e-4, momentum=0.9, weight_decay=5e-4)\n",
    "\n",
    "run_folder = Path(\"../runs/exp1\")"
   ]
  },
  {
   "cell_type": "code",
   "execution_count": null,
   "metadata": {},
   "outputs": [],
   "source": [
    "trainer = Trainer(\n",
    "    model,\n",
    "    train_loader,\n",
    "    DataAugment(hflip=0.5),\n",
    "    val_loader,\n",
    "    DataAugment(),\n",
    "    criterion,\n",
    "    optimizer,\n",
    "    optim.lr_scheduler.StepLR(optimizer, step_size=10, gamma=0.5),\n",
    "    GradScaler(device),\n",
    "    device,\n",
    "    4,\n",
    "    10,\n",
    "    {\"aux\": 0.5},\n",
    "    entry.num_classes,\n",
    "    entry.labels,\n",
    "    entry.colors,\n",
    "    run_folder,\n",
    "    checkpoint_epochs=5,\n",
    "    loggers=(LocalLogger(run_folder, entry.labels),),\n",
    ")"
   ]
  },
  {
   "cell_type": "code",
   "execution_count": null,
   "metadata": {},
   "outputs": [],
   "source": [
    "seed(42)\n",
    "run_folder.mkdir(parents=True)\n",
    "with init_logging(run_folder / \"run.log\"):\n",
    "    trainer.train()"
   ]
  }
 ],
 "metadata": {
  "kernelspec": {
   "display_name": ".venv",
   "language": "python",
   "name": "python3"
  },
  "language_info": {
   "codemirror_mode": {
    "name": "ipython",
    "version": 3
   },
   "file_extension": ".py",
   "mimetype": "text/x-python",
   "name": "python",
   "nbconvert_exporter": "python",
   "pygments_lexer": "ipython3",
   "version": "3.10.11"
  }
 },
 "nbformat": 4,
 "nbformat_minor": 2
}
