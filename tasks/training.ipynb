{
 "cells": [
  {
   "cell_type": "code",
   "execution_count": 1,
   "metadata": {},
   "outputs": [],
   "source": [
    "import shutil\n",
    "import sys\n",
    "from pathlib import Path\n",
    "\n",
    "import toml\n",
    "\n",
    "sys.path.append(str(Path(\"..\").resolve()))\n",
    "from src.pipeline import Config, init_logging\n",
    "from src.utils.rng import seed"
   ]
  },
  {
   "cell_type": "code",
   "execution_count": null,
   "metadata": {},
   "outputs": [],
   "source": [
    "config_path = Path(\"config.toml\")\n",
    "config_dict = toml.load(config_path)\n",
    "config = Config(config_dict)\n",
    "out_folder = config.out_folder\n",
    "print(f\"Experiment outputs to {out_folder}\")"
   ]
  },
  {
   "cell_type": "code",
   "execution_count": null,
   "metadata": {},
   "outputs": [],
   "source": [
    "out_folder.mkdir(parents=True)\n",
    "shutil.copy(\"config.toml\", out_folder / config_path)\n",
    "with init_logging(out_folder / \"run.log\"):\n",
    "    trainer = config.to_trainer()\n",
    "    seed(42)\n",
    "    trainer.train()"
   ]
  }
 ],
 "metadata": {
  "kernelspec": {
   "display_name": ".venv",
   "language": "python",
   "name": "python3"
  },
  "language_info": {
   "codemirror_mode": {
    "name": "ipython",
    "version": 3
   },
   "file_extension": ".py",
   "mimetype": "text/x-python",
   "name": "python",
   "nbconvert_exporter": "python",
   "pygments_lexer": "ipython3",
   "version": "3.10.11"
  }
 },
 "nbformat": 4,
 "nbformat_minor": 2
}
