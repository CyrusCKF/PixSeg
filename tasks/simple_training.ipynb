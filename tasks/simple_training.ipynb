{
 "cells": [
  {
   "cell_type": "code",
   "execution_count": 1,
   "metadata": {},
   "outputs": [],
   "source": [
    "from pathlib import Path\n",
    "\n",
    "import torch\n",
    "from torch import Tensor, nn, optim\n",
    "from torch.nn import functional as F\n",
    "from torch.utils.data import DataLoader\n",
    "from torchvision import datasets\n",
    "from torchvision.models import segmentation\n",
    "from torchvision.transforms import v2"
   ]
  },
  {
   "cell_type": "code",
   "execution_count": 16,
   "metadata": {},
   "outputs": [],
   "source": [
    "root = Path(r\"..\\dataset\")\n",
    "transform = v2.Compose(\n",
    "    [v2.ToImage(), v2.ToDtype(torch.float32, scale=True), v2.CenterCrop([500, 500])]\n",
    ")\n",
    "dataset = datasets.VOCSegmentation(\n",
    "    root, year=\"2007\", image_set=\"train\", transforms=transform\n",
    ")\n",
    "train_loader = DataLoader(dataset, batch_size=2, drop_last=True)\n",
    "\n",
    "num_epochs = 10\n",
    "learn_step = 4\n",
    "device = \"cuda\" if torch.cuda.is_available() else \"cpu\"\n",
    "model = segmentation.deeplabv3_mobilenet_v3_large(num_classes=21)\n",
    "criterion = nn.CrossEntropyLoss(ignore_index=255)\n",
    "optimizer = optim.SGD(model.parameters())"
   ]
  },
  {
   "cell_type": "code",
   "execution_count": null,
   "metadata": {},
   "outputs": [],
   "source": [
    "model.to(device)\n",
    "for i in range(num_epochs):\n",
    "    model.train()\n",
    "    total_loss = 0\n",
    "    for j, (images, masks) in enumerate(train_loader):\n",
    "        images: Tensor = images.to(device)\n",
    "        # masks should be long int and no channel dim if it is 1\n",
    "        masks: Tensor = masks.to(device, torch.long).squeeze(1)\n",
    "\n",
    "        logits: dict[str, Tensor] = model(images)\n",
    "        for k, v in logits.items():\n",
    "            logits[k] = F.interpolate(v, masks.shape[-2:], mode=\"bilinear\")\n",
    "        losses = {k: criterion(v, masks) for k, v in logits.items()}\n",
    "        loss_sum = sum(losses.values())\n",
    "        if isinstance(loss_sum, Tensor):\n",
    "            loss_sum.backward()\n",
    "\n",
    "        if (j + 1) % learn_step == 0 or j == len(train_loader) - 1:\n",
    "            print(f\"Batch {j} optimize\")\n",
    "            optimizer.step()\n",
    "            optimizer.zero_grad()\n",
    "        total_loss += losses[\"out\"].item()\n",
    "\n",
    "    total_loss /= len(dataset)\n",
    "    print(\"Epoch\", i, total_loss)"
   ]
  }
 ],
 "metadata": {
  "kernelspec": {
   "display_name": ".venv",
   "language": "python",
   "name": "python3"
  },
  "language_info": {
   "codemirror_mode": {
    "name": "ipython",
    "version": 3
   },
   "file_extension": ".py",
   "mimetype": "text/x-python",
   "name": "python",
   "nbconvert_exporter": "python",
   "pygments_lexer": "ipython3",
   "version": "3.10.11"
  }
 },
 "nbformat": 4,
 "nbformat_minor": 2
}
