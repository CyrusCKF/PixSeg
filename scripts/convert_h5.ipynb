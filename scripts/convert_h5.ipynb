{
 "cells": [
  {
   "cell_type": "markdown",
   "metadata": {},
   "source": [
    "Convert pretrained Tensorflow models (.h5) to pytorch"
   ]
  },
  {
   "cell_type": "code",
   "execution_count": null,
   "metadata": {},
   "outputs": [],
   "source": [
    "import h5py\n",
    "import numpy as np\n",
    "import requests\n",
    "import torch"
   ]
  },
  {
   "cell_type": "code",
   "execution_count": null,
   "metadata": {},
   "outputs": [],
   "source": [
    "def download_file(url, to):\n",
    "    response = requests.get(url, stream=True)\n",
    "\n",
    "    if response.status_code == 200:\n",
    "        # Open a local file in write-binary mode and write the response content to it\n",
    "        with open(to, \"wb\") as f:\n",
    "            for chunk in response.iter_content(chunk_size=8192):\n",
    "                f.write(chunk)\n",
    "        print(f\"File downloaded successfully: {to}\")\n",
    "    else:\n",
    "        print(f\"Failed to download file: {response.status_code}\")"
   ]
  },
  {
   "cell_type": "code",
   "execution_count": null,
   "metadata": {},
   "outputs": [],
   "source": [
    "xception_url = (\n",
    "    \"https://github.com/fchollet/deep-learning-models/\"\n",
    "    \"releases/download/v0.4/\"\n",
    "    \"xception_weights_tf_dim_ordering_tf_kernels.h5\"\n",
    ")\n",
    "xception_file = \"../assets/xception_weights.h5\"\n",
    "download_file(xception_url, xception_file)"
   ]
  },
  {
   "cell_type": "code",
   "execution_count": null,
   "metadata": {},
   "outputs": [],
   "source": [
    "def flatten_h5(h5: h5py.File | h5py.Group) -> dict[str, h5py.Dataset]:\n",
    "    contents: dict[str, h5py.Dataset] = {}\n",
    "    for k, v in h5.items():\n",
    "        if isinstance(v, (h5py.File, h5py.Group)):\n",
    "            sub_contents = flatten_h5(v)\n",
    "            contents.update(sub_contents)\n",
    "        elif isinstance(v, h5py.Dataset):\n",
    "            contents[k] = v\n",
    "        else:\n",
    "            raise ValueError(f\"Unknown value\", v)\n",
    "    return contents"
   ]
  },
  {
   "cell_type": "code",
   "execution_count": null,
   "metadata": {},
   "outputs": [],
   "source": [
    "xception_h5: h5py.File = h5py.File(xception_file, \"r\")\n",
    "xception_items = flatten_h5(xception_h5)\n",
    "for k, v in xception_items.items():\n",
    "    print(k, v.shape, v.dtype)\n",
    "    v = np.array(v)  # convert to numpy first is much faster\n",
    "    torch.tensor(v)"
   ]
  }
 ],
 "metadata": {
  "kernelspec": {
   "display_name": ".venv",
   "language": "python",
   "name": "python3"
  },
  "language_info": {
   "codemirror_mode": {
    "name": "ipython",
    "version": 3
   },
   "file_extension": ".py",
   "mimetype": "text/x-python",
   "name": "python",
   "nbconvert_exporter": "python",
   "pygments_lexer": "ipython3",
   "version": "3.10.11"
  }
 },
 "nbformat": 4,
 "nbformat_minor": 2
}
